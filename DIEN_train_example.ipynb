{
 "cells": [
  {
   "cell_type": "code",
   "execution_count": 1,
   "metadata": {},
   "outputs": [],
   "source": [
    "import tensorflow as tf\n",
    "from tensorflow.keras import layers\n",
    "from layers import AUGRU\n",
    "from activations import Dice,dice\n",
    "import pandas as pd\n",
    "from model import DIEN\n",
    "import alibaba_data_reader as data_reader\n",
    "import utils\n",
    "import matplotlib\n",
    "import matplotlib.pyplot as plt\n",
    "from matplotlib.font_manager import FontProperties\n",
    "from matplotlib.pyplot import MultipleLocator\n",
    "import numpy as np\n",
    "import os\n",
    "from loss import AuxLayer"
   ]
  },
  {
   "cell_type": "code",
   "execution_count": 2,
   "metadata": {},
   "outputs": [],
   "source": [
    "def mkdir(path):\n",
    "    try:\n",
    "        if not os.path.exists(path):\n",
    "            os.makedirs(path)\n",
    "        return 0\n",
    "    except:\n",
    "        return 1\n",
    "model_name = \"dien\""
   ]
  },
  {
   "cell_type": "code",
   "execution_count": 3,
   "metadata": {},
   "outputs": [],
   "source": [
    "def is_in_notebook():\n",
    "    import sys\n",
    "    return 'ipykernel' in sys.modules\n",
    "def clear_output():\n",
    "    \"\"\"\n",
    "    clear output for both jupyter notebook and the console\n",
    "    \"\"\"\n",
    "    import os\n",
    "    os.system('cls' if os.name == 'nt' else 'clear')\n",
    "    if is_in_notebook():\n",
    "        from IPython.display import clear_output as clear\n",
    "        clear()"
   ]
  },
  {
   "cell_type": "code",
   "execution_count": 4,
   "metadata": {},
   "outputs": [
    {
     "name": "stdout",
     "output_type": "stream",
     "text": [
      "2\n"
     ]
    }
   ],
   "source": [
    "print(1)\n",
    "clear_output()\n",
    "print(2)"
   ]
  },
  {
   "cell_type": "code",
   "execution_count": 5,
   "metadata": {
    "tags": []
   },
   "outputs": [
    {
     "name": "stdout",
     "output_type": "stream",
     "text": [
      "2.0.0\n",
      "GPU Available:  True\n"
     ]
    }
   ],
   "source": [
    "print(tf.__version__)\n",
    "print(\"GPU Available: \", tf.test.is_gpu_available())"
   ]
  },
  {
   "cell_type": "code",
   "execution_count": 6,
   "metadata": {},
   "outputs": [],
   "source": [
    "file_path = \"/nfs/project/boweihan_2/DIEN/dien_final/\"\n",
    "file_path = \"\""
   ]
  },
  {
   "cell_type": "markdown",
   "metadata": {},
   "source": [
    "# 模型训练"
   ]
  },
  {
   "cell_type": "code",
   "execution_count": 7,
   "metadata": {},
   "outputs": [
    {
     "data": {
      "text/html": [
       "<div>\n",
       "<style scoped>\n",
       "    .dataframe tbody tr th:only-of-type {\n",
       "        vertical-align: middle;\n",
       "    }\n",
       "\n",
       "    .dataframe tbody tr th {\n",
       "        vertical-align: top;\n",
       "    }\n",
       "\n",
       "    .dataframe thead th {\n",
       "        text-align: right;\n",
       "    }\n",
       "</style>\n",
       "<table border=\"1\" class=\"dataframe\">\n",
       "  <thead>\n",
       "    <tr style=\"text-align: right;\">\n",
       "      <th></th>\n",
       "      <th>brand</th>\n",
       "      <th>cate</th>\n",
       "      <th>cms_segid</th>\n",
       "      <th>cms_group</th>\n",
       "      <th>gender</th>\n",
       "      <th>age</th>\n",
       "      <th>pvalue</th>\n",
       "      <th>shopping</th>\n",
       "      <th>occupation</th>\n",
       "      <th>user_class_level</th>\n",
       "    </tr>\n",
       "  </thead>\n",
       "  <tbody>\n",
       "    <tr>\n",
       "      <th>0</th>\n",
       "      <td>460561</td>\n",
       "      <td>12968</td>\n",
       "      <td>97</td>\n",
       "      <td>13</td>\n",
       "      <td>2</td>\n",
       "      <td>7</td>\n",
       "      <td>3</td>\n",
       "      <td>3</td>\n",
       "      <td>2</td>\n",
       "      <td>4</td>\n",
       "    </tr>\n",
       "  </tbody>\n",
       "</table>\n",
       "</div>"
      ],
      "text/plain": [
       "    brand   cate  cms_segid  cms_group  gender  age  pvalue  shopping  \\\n",
       "0  460561  12968         97         13       2    7       3         3   \n",
       "\n",
       "   occupation  user_class_level  \n",
       "0           2                 4  "
      ]
     },
     "execution_count": 7,
     "metadata": {},
     "output_type": "execute_result"
    }
   ],
   "source": [
    "train_data, test_data, embedding_count = data_reader.get_data()\n",
    "embedding_count"
   ]
  },
  {
   "cell_type": "code",
   "execution_count": 8,
   "metadata": {},
   "outputs": [],
   "source": [
    "embedding_features_list = data_reader.get_embedding_features_list()\n",
    "user_behavior_features = data_reader.get_user_behavior_features()\n",
    "embedding_count_dict = data_reader.get_embedding_count_dict(embedding_features_list, embedding_count)\n",
    "embedding_dim_dict = data_reader.get_embedding_dim_dict(embedding_features_list)"
   ]
  },
  {
   "cell_type": "code",
   "execution_count": 9,
   "metadata": {},
   "outputs": [],
   "source": [
    "import time\n",
    "stamp = time.strftime(\"%Y%m%d-%H%M%S\", time.localtime())\n",
    "mkdir(\"./train_log/\" + model_name)\n",
    "log_path = \"./train_log/\"+model_name+\"/%s\" % stamp\n",
    "train_summary_writer = tf.summary.create_file_writer(log_path)\n",
    "tf.summary.trace_on(graph=True, profiler=True)\n",
    "loss_file_name = utils.get_file_name()\n",
    "mkdir(\"./loss/\" + model_name + \"/\")\n",
    "utils.make_train_loss_dir(loss_file_name, cols=[\"train_aux_loss\",\"train_target_loss\",\"train_final_loss\"], model=model_name)\n",
    "utils.make_test_loss_dir(loss_file_name, cols=[\"test_aux_loss\",\"test_target_loss\",\"test_final_loss\"], model=model_name)"
   ]
  },
  {
   "cell_type": "code",
   "execution_count": 10,
   "metadata": {},
   "outputs": [
    {
     "data": {
      "text/plain": [
       "<model.DIEN at 0x7f3da6738150>"
      ]
     },
     "execution_count": 10,
     "metadata": {},
     "output_type": "execute_result"
    }
   ],
   "source": [
    "model = DIEN(\n",
    "    embedding_count_dict, \n",
    "    embedding_dim_dict, \n",
    "    embedding_features_list, \n",
    "    user_behavior_features, \n",
    "    activation=\"dice\")\n",
    "model"
   ]
  },
  {
   "cell_type": "code",
   "execution_count": 11,
   "metadata": {},
   "outputs": [],
   "source": [
    "min_batch = 0\n",
    "batch = 100\n",
    "optimizer = tf.keras.optimizers.Adam(lr=1e-4, beta_1=0.9, beta_2=0.999, epsilon=1e-08, decay=0.0)\n",
    "loss_metric = tf.keras.metrics.Sum()\n",
    "auc_metric = tf.keras.metrics.AUC()\n",
    "alpha = 1\n",
    "epochs = 3"
   ]
  },
  {
   "cell_type": "code",
   "execution_count": 12,
   "metadata": {},
   "outputs": [],
   "source": [
    "label, target_cate, target_brand, cms_segid, cms_group, gender, age, pvalue, shopping, occupation, user_class_level, hist_brand_behavior_clk, hist_cate_behavior_clk, hist_brand_behavior_show, hist_cate_behavior_show, min_batch, clk_length, show_length = data_reader.get_batch_data(train_data, min_batch, batch = batch)"
   ]
  },
  {
   "cell_type": "code",
   "execution_count": 13,
   "metadata": {},
   "outputs": [],
   "source": [
    "def get_train_data(label, target_cate, target_brand, cms_segid, cms_group, gender, age, pvalue, shopping, occupation, user_class_level, hist_brand_behavior_clk, hist_cate_behavior_clk, hist_brand_behavior_show, hist_cate_behavior_show):\n",
    "    user_profile_dict = {\n",
    "        \"cms_segid\": cms_segid,\n",
    "        \"cms_group\": cms_group,\n",
    "        \"gender\": gender,\n",
    "        \"age\": age,\n",
    "        \"pvalue\": pvalue,\n",
    "        \"shopping\": shopping,\n",
    "        \"occupation\": occupation,\n",
    "        \"user_class_level\": user_class_level\n",
    "    }\n",
    "    user_profile_list = [\"cms_segid\", \"cms_group\", \"gender\", \"age\", \"pvalue\", \"shopping\", \"occupation\", \"user_class_level\"]\n",
    "    user_behavior_list = [\"brand\", \"cate\"]\n",
    "    click_behavior_dict = {\n",
    "        \"brand\": hist_brand_behavior_clk,\n",
    "        \"cate\": hist_cate_behavior_clk\n",
    "    }\n",
    "    noclick_behavior_dict = {\n",
    "        \"brand\": hist_brand_behavior_show,\n",
    "        \"cate\": hist_cate_behavior_show\n",
    "    }\n",
    "    target_item_dict = {\n",
    "        \"brand\": target_cate,\n",
    "        \"cate\": target_brand\n",
    "    }\n",
    "    return user_profile_dict, user_profile_list, user_behavior_list, click_behavior_dict, noclick_behavior_dict, target_item_dict"
   ]
  },
  {
   "cell_type": "code",
   "execution_count": 14,
   "metadata": {},
   "outputs": [],
   "source": [
    "user_profile_dict, user_profile_list, user_behavior_list, click_behavior_dict, noclick_behavior_dict, target_item_dict = get_train_data(label, target_cate, target_brand, cms_segid, cms_group, gender, age, pvalue, shopping, occupation, user_class_level, hist_brand_behavior_clk, hist_cate_behavior_clk, hist_brand_behavior_show, hist_cate_behavior_show) "
   ]
  },
  {
   "cell_type": "code",
   "execution_count": 15,
   "metadata": {},
   "outputs": [],
   "source": [
    "def train_one_step(user_profile_dict, user_profile_list, click_behavior_dict, target_item_dict, noclick_behavior_dict, user_behavior_list, label):\n",
    "        with tf.GradientTape() as tape:\n",
    "            output, logit, aux_loss = model(user_profile_dict, user_profile_list, click_behavior_dict, target_item_dict, noclick_behavior_dict, user_behavior_list)\n",
    "            target_loss = tf.reduce_mean(tf.nn.sigmoid_cross_entropy_with_logits(logits=logit,labels=tf.cast(label, dtype=tf.float32)))\n",
    "            final_loss = target_loss + alpha * aux_loss\n",
    "            #print(\"[Train Loss] aux_loss=\" + str(aux_loss.numpy()) + \", target_loss=\" + str(target_loss.numpy()) + \", final_loss=\" + str(final_loss.numpy()))\n",
    "        gradient = tape.gradient(final_loss, model.trainable_variables)\n",
    "        clip_gradient, _ = tf.clip_by_global_norm(gradient, 5.0)\n",
    "        optimizer.apply_gradients(zip(clip_gradient, model.trainable_variables))\n",
    "        loss_metric(final_loss)\n",
    "        return aux_loss.numpy(), target_loss.numpy(), final_loss.numpy()"
   ]
  },
  {
   "cell_type": "code",
   "execution_count": 16,
   "metadata": {},
   "outputs": [],
   "source": [
    "def get_test_loss(user_profile_dict, user_profile_list, click_behavior_dict, target_item_dict, noclick_behavior_dict, user_behavior_list, label):\n",
    "    output, logit, aux_loss = model(user_profile_dict, user_profile_list, click_behavior_dict, target_item_dict, noclick_behavior_dict, user_behavior_list)\n",
    "    target_loss = tf.reduce_mean(tf.nn.sigmoid_cross_entropy_with_logits(logits=logit,labels=tf.cast(label, dtype=tf.float32)))\n",
    "    final_loss = target_loss + alpha * aux_loss\n",
    "    #print(\"[Test Loss] aux_loss=\" + str(aux_loss.numpy()) + \", target_loss=\" + str(target_loss.numpy()) + \", final_loss=\" + str(final_loss.numpy()))\n",
    "    return aux_loss.numpy(), target_loss.numpy(), final_loss.numpy()"
   ]
  },
  {
   "cell_type": "code",
   "execution_count": 18,
   "metadata": {},
   "outputs": [],
   "source": [
    "#aux_loss, target_loss, final_loss = train_one_step(user_profile_dict, user_profile_list, click_behavior_dict, target_item_dict, noclick_behavior_dict, user_behavior_list, label)"
   ]
  },
  {
   "cell_type": "code",
   "execution_count": 17,
   "metadata": {},
   "outputs": [
    {
     "name": "stdout",
     "output_type": "stream",
     "text": [
      "WARNING:tensorflow:Layer dien is casting an input tensor from dtype float64 to the layer's dtype of float32, which is new behavior in TensorFlow 2.  The layer has dtype float32 because it's dtype defaults to floatx.\n",
      "\n",
      "If you intended to run this layer in float32, you can safely ignore this warning. If in doubt, this warning is likely only an issue if you are porting a TensorFlow 1.X model to TensorFlow 2.\n",
      "\n",
      "To change all layers to have dtype float64 by default, call `tf.keras.backend.set_floatx('float64')`. To change just this layer, pass dtype='float64' to the layer constructor. If you are the author of this layer, you can disable autocasting by passing autocast=False to the base Layer constructor.\n",
      "\n"
     ]
    },
    {
     "data": {
      "text/plain": [
       "(0.89547175, 0.69206244, 1.5875342)"
      ]
     },
     "execution_count": 17,
     "metadata": {},
     "output_type": "execute_result"
    }
   ],
   "source": [
    "get_test_loss(user_profile_dict, user_profile_list, click_behavior_dict, target_item_dict, noclick_behavior_dict, user_behavior_list, label)"
   ]
  },
  {
   "cell_type": "code",
   "execution_count": 18,
   "metadata": {},
   "outputs": [
    {
     "name": "stdout",
     "output_type": "stream",
     "text": [
      "Model: \"dien\"\n",
      "_________________________________________________________________\n",
      "Layer (type)                 Output Shape              Param #   \n",
      "=================================================================\n",
      "embedding_5 (Embedding)      multiple                  448       \n",
      "_________________________________________________________________\n",
      "embedding_1 (Embedding)      multiple                  32000000  \n",
      "_________________________________________________________________\n",
      "embedding (Embedding)        multiple                  32100992  \n",
      "_________________________________________________________________\n",
      "embedding_3 (Embedding)      multiple                  832       \n",
      "_________________________________________________________________\n",
      "embedding_2 (Embedding)      multiple                  6208      \n",
      "_________________________________________________________________\n",
      "embedding_4 (Embedding)      multiple                  192       \n",
      "_________________________________________________________________\n",
      "embedding_8 (Embedding)      multiple                  320       \n",
      "_________________________________________________________________\n",
      "embedding_6 (Embedding)      multiple                  640       \n",
      "_________________________________________________________________\n",
      "embedding_7 (Embedding)      multiple                  256       \n",
      "_________________________________________________________________\n",
      "embedding_9 (Embedding)      multiple                  320       \n",
      "_________________________________________________________________\n",
      "gru (GRU)                    multiple                  99072     \n",
      "_________________________________________________________________\n",
      "softmax (Softmax)            multiple                  0         \n",
      "_________________________________________________________________\n",
      "aux_layer (AuxLayer)         multiple                  31876     \n",
      "_________________________________________________________________\n",
      "augru (AUGRU)                multiple                  98688     \n",
      "_________________________________________________________________\n",
      "sequential_1 (Sequential)    multiple                  148122    \n",
      "=================================================================\n",
      "Total params: 64,487,966\n",
      "Trainable params: 64,485,614\n",
      "Non-trainable params: 2,352\n",
      "_________________________________________________________________\n"
     ]
    }
   ],
   "source": [
    "model.summary()"
   ]
  },
  {
   "cell_type": "code",
   "execution_count": 19,
   "metadata": {},
   "outputs": [
    {
     "name": "stdout",
     "output_type": "stream",
     "text": [
      "dien/embedding_5/embeddings:0\n",
      "dien/embedding_1/embeddings:0\n",
      "dien/embedding/embeddings:0\n",
      "dien/embedding_3/embeddings:0\n",
      "dien/embedding_2/embeddings:0\n",
      "dien/embedding_4/embeddings:0\n",
      "dien/embedding_8/embeddings:0\n",
      "dien/embedding_6/embeddings:0\n",
      "dien/embedding_7/embeddings:0\n",
      "dien/embedding_9/embeddings:0\n",
      "dien/gru/kernel:0\n",
      "dien/gru/recurrent_kernel:0\n",
      "dien/gru/bias:0\n",
      "dien/aux_layer/sequential/batch_normalization/gamma:0\n",
      "dien/aux_layer/sequential/batch_normalization/beta:0\n",
      "dien/aux_layer/sequential/dense/kernel:0\n",
      "dien/aux_layer/sequential/dense/bias:0\n",
      "dien/aux_layer/sequential/dense_1/kernel:0\n",
      "dien/aux_layer/sequential/dense_1/bias:0\n",
      "dien/aux_layer/sequential/dense_2/kernel:0\n",
      "dien/aux_layer/sequential/dense_2/bias:0\n",
      "dien/augru/gru_gates/dense_3/kernel:0\n",
      "dien/augru/gru_gates/dense_3/bias:0\n",
      "dien/augru/gru_gates/dense_4/kernel:0\n",
      "dien/augru/gru_gates_1/dense_5/kernel:0\n",
      "dien/augru/gru_gates_1/dense_5/bias:0\n",
      "dien/augru/gru_gates_1/dense_6/kernel:0\n",
      "dien/augru/gru_gates_2/dense_7/kernel:0\n",
      "dien/augru/gru_gates_2/dense_7/bias:0\n",
      "dien/augru/gru_gates_2/dense_8/kernel:0\n",
      "dien/sequential_1/batch_normalization_1/gamma:0\n",
      "dien/sequential_1/batch_normalization_1/beta:0\n",
      "dien/sequential_1/dense_9/kernel:0\n",
      "dien/sequential_1/dense_9/bias:0\n",
      "Variable:0\n",
      "Variable:0\n",
      "dien/sequential_1/dense_10/kernel:0\n",
      "dien/sequential_1/dense_10/bias:0\n",
      "Variable:0\n",
      "Variable:0\n",
      "dien/sequential_1/dense_11/kernel:0\n",
      "dien/sequential_1/dense_11/bias:0\n"
     ]
    }
   ],
   "source": [
    "for var in model.trainable_variables:\n",
    "    print(var.name)"
   ]
  },
  {
   "cell_type": "code",
   "execution_count": 20,
   "metadata": {},
   "outputs": [],
   "source": [
    "def get_loss_fig(train_loss, test_loss):\n",
    "    loss_list = [\"aux_loss\", \"final_loss\"]\n",
    "    color_list = [\"r\", \"b\"]\n",
    "    plt.figure()\n",
    "    cnt = 0\n",
    "    for k in loss_list:\n",
    "        loss = train_loss[k]\n",
    "        step = list(np.arange(len(loss)))\n",
    "        plt.plot(step,loss,color_list[cnt]+\"-\",label=\"train_\" + k, linestyle=\"--\")\n",
    "        cnt += 1\n",
    "    cnt = 0\n",
    "    for k in loss_list:\n",
    "        loss = test_loss[k]\n",
    "        step = list(np.arange(len(loss)))\n",
    "        plt.plot(step,loss,color_list[cnt],label=\"test_\" + k)\n",
    "        cnt += 1\n",
    "    plt.title(\"Loss\")\n",
    "    plt.xlabel('iteration')\n",
    "    plt.ylabel('loss')\n",
    "    plt.legend()\n",
    "    clear_output()\n",
    "    plt.savefig(\"./loss/\" + model_name + \"/loss.png\")\n",
    "    clear_output()\n",
    "    plt.show()"
   ]
  },
  {
   "cell_type": "code",
   "execution_count": 21,
   "metadata": {},
   "outputs": [],
   "source": [
    "def record_test_loss(test_loss, test_data, step):\n",
    "    label, target_cate, target_brand, cms_segid, cms_group, gender, age, pvalue, shopping, occupation, user_class_level, hist_brand_behavior_clk, hist_cate_behavior_clk, hist_brand_behavior_show, hist_cate_behavior_show, clk_length, show_length = data_reader.get_test_data(test_data)\n",
    "    user_profile_dict, user_profile_list, user_behavior_list, click_behavior_dict, noclick_behavior_dict, target_item_dict = get_train_data(label, target_cate, target_brand, cms_segid, cms_group, gender, age, pvalue, shopping, occupation, user_class_level, hist_brand_behavior_clk, hist_cate_behavior_clk, hist_brand_behavior_show, hist_cate_behavior_show)\n",
    "    aux_loss, target_loss, final_loss = get_test_loss(user_profile_dict, user_profile_list, click_behavior_dict, target_item_dict, noclick_behavior_dict, user_behavior_list, label)\n",
    "    loss_dict = dict()\n",
    "    loss_dict[\"aux_loss\"] = str(aux_loss)\n",
    "    loss_dict[\"target_loss\"] = str(target_loss)\n",
    "    loss_dict[\"final_loss\"] = str(final_loss)\n",
    "    utils.add_loss(loss_dict, loss_file_name, level=\"test\")\n",
    "    test_loss[\"aux_loss\"].append(float(aux_loss))\n",
    "    test_loss[\"target_loss\"].append(float(target_loss))\n",
    "    test_loss[\"final_loss\"].append(float(final_loss))\n",
    "    with train_summary_writer.as_default():\n",
    "        tf.summary.scalar(\"test_aux_loss epoch: \"+str(epoch), aux_loss, step = step)\n",
    "        tf.summary.scalar(\"test_target_loss epoch: \"+str(epoch), target_loss, step = step)\n",
    "        tf.summary.scalar(\"test_final_loss epoch: \"+str(epoch), final_loss, step = step)"
   ]
  },
  {
   "cell_type": "code",
   "execution_count": 22,
   "metadata": {},
   "outputs": [],
   "source": [
    "mkdir(\"./checkpoint/\" + model_name)\n",
    "checkpoint_path = \"./checkpoint/\" + model_name + \"/cp-{epoch:04d}.ckpt\"\n",
    "checkpoint_dir = os.path.dirname(checkpoint_path)"
   ]
  },
  {
   "cell_type": "code",
   "execution_count": 23,
   "metadata": {},
   "outputs": [
    {
     "data": {
      "image/png": "[encoded data removed]",
      "text/plain": [
       "<Figure size 432x288 with 1 Axes>"
      ]
     },
     "metadata": {
      "needs_background": "light"
     },
     "output_type": "display_data"
    }
   ],
   "source": [
    "train_loss = {\"aux_loss\":[], \"target_loss\":[], \"final_loss\":[]}\n",
    "test_loss = {\"aux_loss\":[], \"target_loss\":[], \"final_loss\":[]}\n",
    "for epoch in range(epochs):\n",
    "    for i in range(int(len(train_data) / batch)):\n",
    "        record_test_loss(test_loss, test_data, i)\n",
    "        label, target_cate, target_brand, cms_segid, cms_group, gender, age, pvalue, shopping, occupation, user_class_level, hist_brand_behavior_clk, hist_cate_behavior_clk, hist_brand_behavior_show, hist_cate_behavior_show, min_batch, clk_length, show_length = data_reader.get_batch_data(train_data, min_batch, batch = batch)\n",
    "        user_profile_dict, user_profile_list, user_behavior_list, click_behavior_dict, noclick_behavior_dict, target_item_dict = get_train_data(label, target_cate, target_brand, cms_segid, cms_group, gender, age, pvalue, shopping, occupation, user_class_level, hist_brand_behavior_clk, hist_cate_behavior_clk, hist_brand_behavior_show, hist_cate_behavior_show)\n",
    "        aux_loss, target_loss, final_loss = train_one_step(user_profile_dict, user_profile_list, click_behavior_dict, target_item_dict, noclick_behavior_dict, user_behavior_list, label)\n",
    "        #Record_loss12\n",
    "        loss_dict = dict()\n",
    "        loss_dict[\"aux_loss\"] = str(aux_loss)\n",
    "        loss_dict[\"target_loss\"] = str(target_loss)\n",
    "        loss_dict[\"final_loss\"] = str(final_loss)\n",
    "        utils.add_loss(loss_dict, loss_file_name, level=\"train\")\n",
    "        train_loss[\"aux_loss\"].append(float(aux_loss))\n",
    "        train_loss[\"target_loss\"].append(float(target_loss))\n",
    "        train_loss[\"final_loss\"].append(float(final_loss))\n",
    "        get_loss_fig(train_loss, test_loss)\n",
    "        tf.summary.trace_on(graph=True, profiler=True)\n",
    "        with train_summary_writer.as_default():\n",
    "            tf.summary.scalar(\"train_aux_loss epoch: \"+str(epoch), aux_loss, step = i)\n",
    "            tf.summary.scalar(\"train_target_loss epoch: \"+str(epoch), target_loss, step = i)\n",
    "            tf.summary.scalar(\"train_final_loss epoch: \"+str(epoch), final_loss, step = i)\n",
    "            tf.summary.trace_export(\n",
    "                name=\"DIEN\", \n",
    "                step=i, \n",
    "                profiler_outdir=log_path)\n",
    "    model.save_weights(checkpoint_path.format(epoch=epoch))"
   ]
  },
  {
   "cell_type": "markdown",
   "metadata": {},
   "source": [
    "# 模型评估"
   ]
  },
  {
   "cell_type": "code",
   "execution_count": 24,
   "metadata": {},
   "outputs": [
    {
     "name": "stdout",
     "output_type": "stream",
     "text": [
      "./checkpoint/cp-0002.ckpt\n"
     ]
    },
    {
     "data": {
      "text/plain": [
       "<tensorflow.python.training.tracking.util.CheckpointLoadStatus at 0x7f3d6d394710>"
      ]
     },
     "execution_count": 24,
     "metadata": {},
     "output_type": "execute_result"
    }
   ],
   "source": [
    "last_model = DIEN(embedding_count_dict, embedding_dim_dict, embedding_features_list, user_behavior_features, activation=\"dice\")\n",
    "latest = tf.train.latest_checkpoint(checkpoint_dir)\n",
    "print(latest)\n",
    "last_model.load_weights(latest)"
   ]
  },
  {
   "cell_type": "code",
   "execution_count": 26,
   "metadata": {},
   "outputs": [
    {
     "name": "stdout",
     "output_type": "stream",
     "text": [
      "WARNING:tensorflow:Layer dien_1 is casting an input tensor from dtype float64 to the layer's dtype of float32, which is new behavior in TensorFlow 2.  The layer has dtype float32 because it's dtype defaults to floatx.\n",
      "\n",
      "If you intended to run this layer in float32, you can safely ignore this warning. If in doubt, this warning is likely only an issue if you are porting a TensorFlow 1.X model to TensorFlow 2.\n",
      "\n",
      "To change all layers to have dtype float64 by default, call `tf.keras.backend.set_floatx('float64')`. To change just this layer, pass dtype='float64' to the layer constructor. If you are the author of this layer, you can disable autocasting by passing autocast=False to the base Layer constructor.\n",
      "\n"
     ]
    },
    {
     "data": {
      "text/plain": [
       "(0.029646765, 0.26222047, 0.29186723)"
      ]
     },
     "execution_count": 26,
     "metadata": {},
     "output_type": "execute_result"
    }
   ],
   "source": [
    "model= last_model\n",
    "label, target_cate, target_brand, cms_segid, cms_group, gender, age, pvalue, shopping, occupation, user_class_level, hist_brand_behavior_clk, hist_cate_behavior_clk, hist_brand_behavior_show, hist_cate_behavior_show, clk_length, show_length = data_reader.get_test_data(test_data)\n",
    "user_profile_dict, user_profile_list, user_behavior_list, click_behavior_dict, noclick_behavior_dict, target_item_dict = get_train_data(label, target_cate, target_brand, cms_segid, cms_group, gender, age, pvalue, shopping, occupation, user_class_level, hist_brand_behavior_clk, hist_cate_behavior_clk, hist_brand_behavior_show, hist_cate_behavior_show)\n",
    "aux_loss, target_loss, final_loss = get_test_loss(user_profile_dict, user_profile_list, click_behavior_dict, target_item_dict, noclick_behavior_dict, user_behavior_list, label)\n",
    "aux_loss, target_loss, final_loss"
   ]
  },
  {
   "cell_type": "code",
   "execution_count": 27,
   "metadata": {},
   "outputs": [],
   "source": [
    "def convert_tensor(data):\n",
    "    return tf.convert_to_tensor(data)\n",
    "\n",
    "def get_normal_data(data, col):\n",
    "    return data[col].values\n",
    "\n",
    "def get_sequence_data(data, col):\n",
    "    rst = []\n",
    "    max_length = 0\n",
    "    for i in data[col].values:\n",
    "        temp = len(list(map(eval,i[1:-1].split(\",\"))))\n",
    "        if temp > max_length:\n",
    "            max_length = temp\n",
    "\n",
    "    for i in data[col].values:\n",
    "        temp = list(map(eval,i[1:-1].split(\",\")))\n",
    "        padding = np.zeros(max_length - len(temp))\n",
    "        rst.append(list(np.append(np.array(temp), padding)))\n",
    "    return rst\n",
    "\n",
    "def get_evaluate_data(data):\n",
    "    batch_data = data\n",
    "    click = get_normal_data(batch_data, \"guide_dien_final_train_data.clk\")\n",
    "    target_cate = get_normal_data(batch_data, \"guide_dien_final_train_data.cate_id\")\n",
    "    target_brand = get_normal_data(batch_data, \"guide_dien_final_train_data.brand\")\n",
    "    cms_segid = get_normal_data(batch_data, \"guide_dien_final_train_data.cms_segid\")\n",
    "    cms_group = get_normal_data(batch_data, \"guide_dien_final_train_data.cms_group_id\")\n",
    "    gender = get_normal_data(batch_data, \"guide_dien_final_train_data.final_gender_code\")\n",
    "    age = get_normal_data(batch_data, \"guide_dien_final_train_data.age_level\")\n",
    "    pvalue = get_normal_data(batch_data, \"guide_dien_final_train_data.pvalue_level\")\n",
    "    shopping = get_normal_data(batch_data, \"guide_dien_final_train_data.shopping_level\")\n",
    "    occupation = get_normal_data(batch_data, \"guide_dien_final_train_data.occupation\")\n",
    "    user_class_level = get_normal_data(batch_data, \"guide_dien_final_train_data.new_user_class_level\")\n",
    "    hist_brand_behavior_clk = get_sequence_data(batch_data, \"guide_dien_final_train_data.click_brand\")\n",
    "    hist_cate_behavior_clk = get_sequence_data(batch_data, \"guide_dien_final_train_data.click_cate\")\n",
    "    hist_brand_behavior_show = get_sequence_data(batch_data, \"guide_dien_final_train_data.show_brand\")\n",
    "    hist_cate_behavior_show = get_sequence_data(batch_data, \"guide_dien_final_train_data.show_cate\")\n",
    "    return tf.one_hot(click, 2), convert_tensor(target_cate), convert_tensor(target_brand), convert_tensor(cms_segid), convert_tensor(cms_group), convert_tensor(gender), convert_tensor(age), convert_tensor(pvalue), convert_tensor(shopping), convert_tensor(occupation), convert_tensor(user_class_level), convert_tensor(hist_brand_behavior_clk), convert_tensor(hist_cate_behavior_clk), convert_tensor(hist_brand_behavior_show), convert_tensor(hist_cate_behavior_show)"
   ]
  },
  {
   "cell_type": "code",
   "execution_count": 29,
   "metadata": {},
   "outputs": [],
   "source": [
    "label, target_cate, target_brand, cms_segid, cms_group, gender, age, pvalue, shopping, occupation, user_class_level, hist_brand_behavior_clk, hist_cate_behavior_clk, hist_brand_behavior_show, hist_cate_behavior_show = get_evaluate_data(test_data)\n",
    "user_profile_dict, user_profile_list, user_behavior_list, click_behavior_dict, noclick_behavior_dict, target_item_dict = get_train_data(label, target_cate, target_brand, cms_segid, cms_group, gender, age, pvalue, shopping, occupation, user_class_level, hist_brand_behavior_clk, hist_cate_behavior_clk, hist_brand_behavior_show, hist_cate_behavior_show)\n",
    "output, logit, aux_loss = model(user_profile_dict, user_profile_list, click_behavior_dict, target_item_dict, noclick_behavior_dict, user_behavior_list)"
   ]
  },
  {
   "cell_type": "code",
   "execution_count": 30,
   "metadata": {},
   "outputs": [
    {
     "name": "stdout",
     "output_type": "stream",
     "text": [
      "[训练集]正例:负例=501 : 9435\n",
      "[测试集]正例:负例=56 : 943\n"
     ]
    }
   ],
   "source": [
    "train_label = train_data[\"guide_dien_final_train_data.clk\"].values\n",
    "positive_num = len(train_label[train_label == 1])\n",
    "negative_num = len(train_label[train_label == 0])\n",
    "print(\"[训练集]正例:负例=%d : %d\" % (positive_num, negative_num))\n",
    "test_label = test_data[\"guide_dien_final_train_data.clk\"].values\n",
    "positive_num = len(test_label[test_label == 1])\n",
    "negative_num = len(test_label[test_label == 0])\n",
    "print(\"[测试集]正例:负例=%d : %d\" % (positive_num, negative_num))"
   ]
  },
  {
   "cell_type": "code",
   "execution_count": 31,
   "metadata": {},
   "outputs": [],
   "source": [
    "y_true = label.numpy()[:,-1]\n",
    "y_score = output.numpy()[:,-1]"
   ]
  },
  {
   "cell_type": "code",
   "execution_count": 48,
   "metadata": {},
   "outputs": [],
   "source": [
    "threshold = 0.0031\n",
    "y_pre = y_score.copy()\n",
    "y_pre[y_pre > threshold] = 1\n",
    "y_pre[y_pre <= threshold] = 0"
   ]
  },
  {
   "cell_type": "code",
   "execution_count": 34,
   "metadata": {},
   "outputs": [],
   "source": [
    "import numpy as np\n",
    "from sklearn.metrics import accuracy_score\n",
    "from sklearn.metrics import f1_score\n",
    "from sklearn.metrics import auc\n",
    "import sklearn.metrics as sm\n",
    "from sklearn.metrics import roc_curve, auc\n",
    "import matplotlib as mpl  \n",
    "import matplotlib.pyplot as plt"
   ]
  },
  {
   "cell_type": "code",
   "execution_count": 50,
   "metadata": {},
   "outputs": [
    {
     "name": "stdout",
     "output_type": "stream",
     "text": [
      "0.8818818818818819\n"
     ]
    }
   ],
   "source": [
    "print(accuracy_score(y_true, y_pre))"
   ]
  },
  {
   "cell_type": "code",
   "execution_count": 51,
   "metadata": {},
   "outputs": [
    {
     "name": "stdout",
     "output_type": "stream",
     "text": [
      "混淆矩阵为：\n",
      "[[876  67]\n",
      " [ 51   5]]\n"
     ]
    }
   ],
   "source": [
    "m = sm.confusion_matrix(y_true, y_pre)\n",
    "print('混淆矩阵为：', m, sep='\\n')"
   ]
  },
  {
   "cell_type": "code",
   "execution_count": 52,
   "metadata": {},
   "outputs": [
    {
     "name": "stdout",
     "output_type": "stream",
     "text": [
      "分类报告为：\n",
      "              precision    recall  f1-score   support\n",
      "\n",
      "         0.0       0.94      0.93      0.94       943\n",
      "         1.0       0.07      0.09      0.08        56\n",
      "\n",
      "    accuracy                           0.88       999\n",
      "   macro avg       0.51      0.51      0.51       999\n",
      "weighted avg       0.90      0.88      0.89       999\n",
      "\n"
     ]
    }
   ],
   "source": [
    "r = sm.classification_report(y_true, y_pre)\n",
    "print('分类报告为：', r, sep='\\n')"
   ]
  },
  {
   "cell_type": "code",
   "execution_count": 53,
   "metadata": {},
   "outputs": [
    {
     "data": {
      "text/plain": [
       "0.679821239206181"
      ]
     },
     "execution_count": 53,
     "metadata": {},
     "output_type": "execute_result"
    }
   ],
   "source": [
    "from sklearn.metrics import roc_auc_score\n",
    "auc_score = roc_auc_score(y_true,y_score)\n",
    "auc_score"
   ]
  },
  {
   "cell_type": "code",
   "execution_count": 54,
   "metadata": {},
   "outputs": [],
   "source": [
    "def plot_roc(labels, predict_prob):\n",
    "    false_positive_rate,true_positive_rate,thresholds=roc_curve(labels, predict_prob)\n",
    "    roc_auc=auc(false_positive_rate, true_positive_rate)\n",
    "    plt.title('ROC')\n",
    "    plt.plot(false_positive_rate, true_positive_rate,'b',label='AUC = %0.4f'% roc_auc)\n",
    "    plt.legend(loc='lower right')\n",
    "    plt.plot([0,1],[0,1],'r--')\n",
    "    plt.ylabel('TPR')\n",
    "    plt.xlabel('FPR')\n",
    "    plt.show()"
   ]
  },
  {
   "cell_type": "code",
   "execution_count": 55,
   "metadata": {},
   "outputs": [
    {
     "data": {
      "image/png": "[encoded data removed]",
      "text/plain": [
       "<Figure size 432x288 with 1 Axes>"
      ]
     },
     "metadata": {
      "needs_background": "light"
     },
     "output_type": "display_data"
    }
   ],
   "source": [
    "plot_roc(y_true, y_score)"
   ]
  },
  {
   "cell_type": "markdown",
   "metadata": {},
   "source": [
    "# 整体训练图像"
   ]
  },
  {
   "cell_type": "code",
   "execution_count": 57,
   "metadata": {},
   "outputs": [
    {
     "data": {
      "text/html": [
       "<div>\n",
       "<style scoped>\n",
       "    .dataframe tbody tr th:only-of-type {\n",
       "        vertical-align: middle;\n",
       "    }\n",
       "\n",
       "    .dataframe tbody tr th {\n",
       "        vertical-align: top;\n",
       "    }\n",
       "\n",
       "    .dataframe thead th {\n",
       "        text-align: right;\n",
       "    }\n",
       "</style>\n",
       "<table border=\"1\" class=\"dataframe\">\n",
       "  <thead>\n",
       "    <tr style=\"text-align: right;\">\n",
       "      <th></th>\n",
       "      <th>train_aux_loss</th>\n",
       "      <th>train_target_loss</th>\n",
       "      <th>train_final_loss</th>\n",
       "    </tr>\n",
       "  </thead>\n",
       "  <tbody>\n",
       "    <tr>\n",
       "      <th>0</th>\n",
       "      <td>0.895453</td>\n",
       "      <td>0.692025</td>\n",
       "      <td>1.587478</td>\n",
       "    </tr>\n",
       "    <tr>\n",
       "      <th>1</th>\n",
       "      <td>0.883613</td>\n",
       "      <td>0.691035</td>\n",
       "      <td>1.574647</td>\n",
       "    </tr>\n",
       "    <tr>\n",
       "      <th>2</th>\n",
       "      <td>0.871820</td>\n",
       "      <td>0.690196</td>\n",
       "      <td>1.562016</td>\n",
       "    </tr>\n",
       "    <tr>\n",
       "      <th>3</th>\n",
       "      <td>0.860334</td>\n",
       "      <td>0.689409</td>\n",
       "      <td>1.549743</td>\n",
       "    </tr>\n",
       "    <tr>\n",
       "      <th>4</th>\n",
       "      <td>0.848613</td>\n",
       "      <td>0.688840</td>\n",
       "      <td>1.537453</td>\n",
       "    </tr>\n",
       "    <tr>\n",
       "      <th>...</th>\n",
       "      <td>...</td>\n",
       "      <td>...</td>\n",
       "      <td>...</td>\n",
       "    </tr>\n",
       "    <tr>\n",
       "      <th>292</th>\n",
       "      <td>0.030206</td>\n",
       "      <td>0.197515</td>\n",
       "      <td>0.227721</td>\n",
       "    </tr>\n",
       "    <tr>\n",
       "      <th>293</th>\n",
       "      <td>0.028985</td>\n",
       "      <td>0.140821</td>\n",
       "      <td>0.169806</td>\n",
       "    </tr>\n",
       "    <tr>\n",
       "      <th>294</th>\n",
       "      <td>0.028990</td>\n",
       "      <td>0.081985</td>\n",
       "      <td>0.110975</td>\n",
       "    </tr>\n",
       "    <tr>\n",
       "      <th>295</th>\n",
       "      <td>0.028055</td>\n",
       "      <td>0.166338</td>\n",
       "      <td>0.194393</td>\n",
       "    </tr>\n",
       "    <tr>\n",
       "      <th>296</th>\n",
       "      <td>0.028797</td>\n",
       "      <td>0.197161</td>\n",
       "      <td>0.225958</td>\n",
       "    </tr>\n",
       "  </tbody>\n",
       "</table>\n",
       "<p>297 rows × 3 columns</p>\n",
       "</div>"
      ],
      "text/plain": [
       "     train_aux_loss  train_target_loss  train_final_loss\n",
       "0          0.895453           0.692025          1.587478\n",
       "1          0.883613           0.691035          1.574647\n",
       "2          0.871820           0.690196          1.562016\n",
       "3          0.860334           0.689409          1.549743\n",
       "4          0.848613           0.688840          1.537453\n",
       "..              ...                ...               ...\n",
       "292        0.030206           0.197515          0.227721\n",
       "293        0.028985           0.140821          0.169806\n",
       "294        0.028990           0.081985          0.110975\n",
       "295        0.028055           0.166338          0.194393\n",
       "296        0.028797           0.197161          0.225958\n",
       "\n",
       "[297 rows x 3 columns]"
      ]
     },
     "execution_count": 57,
     "metadata": {},
     "output_type": "execute_result"
    }
   ],
   "source": [
    "train_loss_data = pd.read_csv(\"./loss/dien/train_loss.csv.2020_09_22_21_35_06\")\n",
    "train_loss_data"
   ]
  },
  {
   "cell_type": "code",
   "execution_count": 56,
   "metadata": {},
   "outputs": [
    {
     "data": {
      "text/html": [
       "<div>\n",
       "<style scoped>\n",
       "    .dataframe tbody tr th:only-of-type {\n",
       "        vertical-align: middle;\n",
       "    }\n",
       "\n",
       "    .dataframe tbody tr th {\n",
       "        vertical-align: top;\n",
       "    }\n",
       "\n",
       "    .dataframe thead th {\n",
       "        text-align: right;\n",
       "    }\n",
       "</style>\n",
       "<table border=\"1\" class=\"dataframe\">\n",
       "  <thead>\n",
       "    <tr style=\"text-align: right;\">\n",
       "      <th></th>\n",
       "      <th>test_aux_loss</th>\n",
       "      <th>test_target_loss</th>\n",
       "      <th>test_final_loss</th>\n",
       "    </tr>\n",
       "  </thead>\n",
       "  <tbody>\n",
       "    <tr>\n",
       "      <th>0</th>\n",
       "      <td>0.895550</td>\n",
       "      <td>0.692121</td>\n",
       "      <td>1.587671</td>\n",
       "    </tr>\n",
       "    <tr>\n",
       "      <th>1</th>\n",
       "      <td>0.883785</td>\n",
       "      <td>0.691325</td>\n",
       "      <td>1.575110</td>\n",
       "    </tr>\n",
       "    <tr>\n",
       "      <th>2</th>\n",
       "      <td>0.872121</td>\n",
       "      <td>0.690532</td>\n",
       "      <td>1.562653</td>\n",
       "    </tr>\n",
       "    <tr>\n",
       "      <th>3</th>\n",
       "      <td>0.860558</td>\n",
       "      <td>0.689721</td>\n",
       "      <td>1.550279</td>\n",
       "    </tr>\n",
       "    <tr>\n",
       "      <th>4</th>\n",
       "      <td>0.849101</td>\n",
       "      <td>0.688917</td>\n",
       "      <td>1.538019</td>\n",
       "    </tr>\n",
       "    <tr>\n",
       "      <th>...</th>\n",
       "      <td>...</td>\n",
       "      <td>...</td>\n",
       "      <td>...</td>\n",
       "    </tr>\n",
       "    <tr>\n",
       "      <th>292</th>\n",
       "      <td>0.030182</td>\n",
       "      <td>0.261107</td>\n",
       "      <td>0.291289</td>\n",
       "    </tr>\n",
       "    <tr>\n",
       "      <th>293</th>\n",
       "      <td>0.030074</td>\n",
       "      <td>0.261199</td>\n",
       "      <td>0.291273</td>\n",
       "    </tr>\n",
       "    <tr>\n",
       "      <th>294</th>\n",
       "      <td>0.029966</td>\n",
       "      <td>0.261354</td>\n",
       "      <td>0.291320</td>\n",
       "    </tr>\n",
       "    <tr>\n",
       "      <th>295</th>\n",
       "      <td>0.029859</td>\n",
       "      <td>0.261639</td>\n",
       "      <td>0.291498</td>\n",
       "    </tr>\n",
       "    <tr>\n",
       "      <th>296</th>\n",
       "      <td>0.029752</td>\n",
       "      <td>0.261937</td>\n",
       "      <td>0.291690</td>\n",
       "    </tr>\n",
       "  </tbody>\n",
       "</table>\n",
       "<p>297 rows × 3 columns</p>\n",
       "</div>"
      ],
      "text/plain": [
       "     test_aux_loss  test_target_loss  test_final_loss\n",
       "0         0.895550          0.692121         1.587671\n",
       "1         0.883785          0.691325         1.575110\n",
       "2         0.872121          0.690532         1.562653\n",
       "3         0.860558          0.689721         1.550279\n",
       "4         0.849101          0.688917         1.538019\n",
       "..             ...               ...              ...\n",
       "292       0.030182          0.261107         0.291289\n",
       "293       0.030074          0.261199         0.291273\n",
       "294       0.029966          0.261354         0.291320\n",
       "295       0.029859          0.261639         0.291498\n",
       "296       0.029752          0.261937         0.291690\n",
       "\n",
       "[297 rows x 3 columns]"
      ]
     },
     "execution_count": 56,
     "metadata": {},
     "output_type": "execute_result"
    }
   ],
   "source": [
    "test_loss_data = pd.read_csv(\"./loss/dien/test_loss.csv.2020_09_22_21_35_06\")\n",
    "test_loss_data"
   ]
  },
  {
   "cell_type": "code",
   "execution_count": 58,
   "metadata": {},
   "outputs": [],
   "source": [
    "def get_loss_fig_aux(train_loss_data, test_loss_data):\n",
    "    train_loss = {\n",
    "        \"aux_loss\":list(train_loss_data[\"train_\" + \"aux_loss\"].values), \n",
    "        \"target_loss\":list(train_loss_data[\"train_\" + \"target_loss\"].values), \n",
    "        \"final_loss\":list(train_loss_data[\"train_\" + \"final_loss\"].values)\n",
    "    }\n",
    "    test_loss = {\n",
    "        \"aux_loss\":list(test_loss_data[\"test_\" + \"aux_loss\"].values), \n",
    "        \"target_loss\":list(test_loss_data[\"test_\" + \"target_loss\"].values), \n",
    "        \"final_loss\":list(test_loss_data[\"test_\" + \"final_loss\"].values)\n",
    "    }\n",
    "    get_loss_fig(train_loss, test_loss)"
   ]
  },
  {
   "cell_type": "code",
   "execution_count": 59,
   "metadata": {},
   "outputs": [
    {
     "data": {
      "image/png": "[encoded data removed]",
      "text/plain": [
       "<Figure size 432x288 with 1 Axes>"
      ]
     },
     "metadata": {
      "needs_background": "light"
     },
     "output_type": "display_data"
    }
   ],
   "source": [
    "get_loss_fig_aux(train_loss_data, test_loss_data)"
   ]
  },
  {
   "cell_type": "code",
   "execution_count": null,
   "metadata": {},
   "outputs": [],
   "source": []
  }
 ],
 "metadata": {
  "kernelspec": {
   "display_name": "Python 3",
   "language": "python",
   "name": "python3"
  },
  "language_info": {
   "codemirror_mode": {
    "name": "ipython",
    "version": 3
   },
   "file_extension": ".py",
   "mimetype": "text/x-python",
   "name": "python",
   "nbconvert_exporter": "python",
   "pygments_lexer": "ipython3",
   "version": "3.7.6"
  }
 },
 "nbformat": 4,
 "nbformat_minor": 4
}
